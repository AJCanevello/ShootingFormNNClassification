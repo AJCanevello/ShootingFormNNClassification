{
  "cells": [
    {
      "cell_type": "markdown",
      "metadata": {
        "id": "QqBpZDlKqWcH"
      },
      "source": [
        "##Installing and Mounting Media"
      ]
    },
    {
      "cell_type": "code",
      "execution_count": 1,
      "metadata": {
        "colab": {
          "base_uri": "https://localhost:8080/"
        },
        "id": "GkImskg73jIH",
        "outputId": "b7c8b6e7-559a-42b3-d021-2544f52dd047"
      },
      "outputs": [
        {
          "output_type": "stream",
          "name": "stdout",
          "text": [
            "Requirement already satisfied: mediapipe in /usr/local/lib/python3.11/dist-packages (0.10.21)\n",
            "Requirement already satisfied: opencv-python in /usr/local/lib/python3.11/dist-packages (4.11.0.86)\n",
            "Requirement already satisfied: absl-py in /usr/local/lib/python3.11/dist-packages (from mediapipe) (1.4.0)\n",
            "Requirement already satisfied: attrs>=19.1.0 in /usr/local/lib/python3.11/dist-packages (from mediapipe) (25.3.0)\n",
            "Requirement already satisfied: flatbuffers>=2.0 in /usr/local/lib/python3.11/dist-packages (from mediapipe) (25.2.10)\n",
            "Requirement already satisfied: jax in /usr/local/lib/python3.11/dist-packages (from mediapipe) (0.5.2)\n",
            "Requirement already satisfied: jaxlib in /usr/local/lib/python3.11/dist-packages (from mediapipe) (0.5.1)\n",
            "Requirement already satisfied: matplotlib in /usr/local/lib/python3.11/dist-packages (from mediapipe) (3.10.0)\n",
            "Requirement already satisfied: numpy<2 in /usr/local/lib/python3.11/dist-packages (from mediapipe) (1.26.4)\n",
            "Requirement already satisfied: opencv-contrib-python in /usr/local/lib/python3.11/dist-packages (from mediapipe) (4.11.0.86)\n",
            "Requirement already satisfied: protobuf<5,>=4.25.3 in /usr/local/lib/python3.11/dist-packages (from mediapipe) (4.25.6)\n",
            "Requirement already satisfied: sounddevice>=0.4.4 in /usr/local/lib/python3.11/dist-packages (from mediapipe) (0.5.1)\n",
            "Requirement already satisfied: sentencepiece in /usr/local/lib/python3.11/dist-packages (from mediapipe) (0.2.0)\n",
            "Requirement already satisfied: CFFI>=1.0 in /usr/local/lib/python3.11/dist-packages (from sounddevice>=0.4.4->mediapipe) (1.17.1)\n",
            "Requirement already satisfied: ml_dtypes>=0.4.0 in /usr/local/lib/python3.11/dist-packages (from jax->mediapipe) (0.4.1)\n",
            "Requirement already satisfied: opt_einsum in /usr/local/lib/python3.11/dist-packages (from jax->mediapipe) (3.4.0)\n",
            "Requirement already satisfied: scipy>=1.11.1 in /usr/local/lib/python3.11/dist-packages (from jax->mediapipe) (1.14.1)\n",
            "Requirement already satisfied: contourpy>=1.0.1 in /usr/local/lib/python3.11/dist-packages (from matplotlib->mediapipe) (1.3.1)\n",
            "Requirement already satisfied: cycler>=0.10 in /usr/local/lib/python3.11/dist-packages (from matplotlib->mediapipe) (0.12.1)\n",
            "Requirement already satisfied: fonttools>=4.22.0 in /usr/local/lib/python3.11/dist-packages (from matplotlib->mediapipe) (4.56.0)\n",
            "Requirement already satisfied: kiwisolver>=1.3.1 in /usr/local/lib/python3.11/dist-packages (from matplotlib->mediapipe) (1.4.8)\n",
            "Requirement already satisfied: packaging>=20.0 in /usr/local/lib/python3.11/dist-packages (from matplotlib->mediapipe) (24.2)\n",
            "Requirement already satisfied: pillow>=8 in /usr/local/lib/python3.11/dist-packages (from matplotlib->mediapipe) (11.1.0)\n",
            "Requirement already satisfied: pyparsing>=2.3.1 in /usr/local/lib/python3.11/dist-packages (from matplotlib->mediapipe) (3.2.1)\n",
            "Requirement already satisfied: python-dateutil>=2.7 in /usr/local/lib/python3.11/dist-packages (from matplotlib->mediapipe) (2.8.2)\n",
            "Requirement already satisfied: pycparser in /usr/local/lib/python3.11/dist-packages (from CFFI>=1.0->sounddevice>=0.4.4->mediapipe) (2.22)\n",
            "Requirement already satisfied: six>=1.5 in /usr/local/lib/python3.11/dist-packages (from python-dateutil>=2.7->matplotlib->mediapipe) (1.17.0)\n"
          ]
        }
      ],
      "source": [
        "# Install MediaPipe and OpenCV\n",
        "!pip install mediapipe opencv-python"
      ]
    },
    {
      "cell_type": "code",
      "execution_count": 2,
      "metadata": {
        "id": "FkV6BSAY32iB"
      },
      "outputs": [],
      "source": [
        "import cv2\n",
        "import mediapipe as mp\n",
        "import matplotlib.pyplot as plt\n",
        "import torch\n",
        "import torch.nn as nn\n",
        "import torch.optim as optim\n",
        "from torch.utils.data import DataLoader, Dataset\n",
        "from torchvision import transforms\n",
        "import os\n",
        "from google.colab import drive"
      ]
    },
    {
      "cell_type": "code",
      "execution_count": 3,
      "metadata": {
        "id": "dxoM0UBYqq1R"
      },
      "outputs": [],
      "source": [
        "# Initialize MediaPipe pose and hands\n",
        "mp_pose = mp.solutions.pose\n",
        "mp_hands = mp.solutions.hands\n",
        "pose = mp_pose.Pose(static_image_mode=True)  # Set static_image_mode for single images\n",
        "hands = mp_hands.Hands(static_image_mode=True)\n",
        "mp_drawing = mp.solutions.drawing_utils  # For drawing landmarks"
      ]
    },
    {
      "cell_type": "code",
      "execution_count": 4,
      "metadata": {
        "colab": {
          "base_uri": "https://localhost:8080/"
        },
        "id": "jyzoVLWa3GBI",
        "outputId": "ebbcad12-23e4-4842-f9d8-b11ac5df7e65"
      },
      "outputs": [
        {
          "output_type": "stream",
          "name": "stdout",
          "text": [
            "Mounted at /content/gdrive\n"
          ]
        }
      ],
      "source": [
        "# Mount Google Drive\n",
        "drive.mount('/content/gdrive')"
      ]
    },
    {
      "cell_type": "code",
      "execution_count": 5,
      "metadata": {
        "id": "s9Ez-z913TGG"
      },
      "outputs": [],
      "source": [
        "# Define base directories for datasets\n",
        "base_dir = '/content/gdrive/MyDrive/E-RAU(DB)/MA680/data/Shooting'\n",
        "experienced_dir = os.path.join(base_dir, 'Experienced')\n",
        "novice_dir = os.path.join(base_dir, 'Novice')"
      ]
    },
    {
      "cell_type": "markdown",
      "metadata": {
        "id": "Xg1VHsYNrXOy"
      },
      "source": [
        "##Defining Functions and Classes"
      ]
    },
    {
      "cell_type": "code",
      "execution_count": 6,
      "metadata": {
        "id": "AtS-T2jFKIsC"
      },
      "outputs": [],
      "source": [
        "def process_and_save_frames(input_directory, output_directory):\n",
        "    # Create the output directory if it doesn't exist\n",
        "    os.makedirs(output_directory, exist_ok=True)\n",
        "\n",
        "    # List all image files in the input directory\n",
        "    image_files = [f for f in os.listdir(input_directory) if f.endswith(('.jpg', '.png'))]\n",
        "\n",
        "    # Iterate through all image files\n",
        "    for file_name in image_files:\n",
        "        file_path = os.path.join(input_directory, file_name)\n",
        "        print(f\"Processing: {file_name}\")\n",
        "\n",
        "        # Read the image\n",
        "        image = cv2.imread(file_path)\n",
        "        if image is None:\n",
        "            print(f\"Warning: Could not load {file_name}\")\n",
        "            continue\n",
        "\n",
        "        # Convert to RGB for MediaPipe processing\n",
        "        image_rgb = cv2.cvtColor(image, cv2.COLOR_BGR2RGB)\n",
        "\n",
        "        # Detect pose\n",
        "        pose_results = pose.process(image_rgb)\n",
        "\n",
        "        # Detect hands\n",
        "        hand_results = hands.process(image_rgb)\n",
        "\n",
        "        # Draw the results\n",
        "        annotated_image = image.copy()\n",
        "        if pose_results.pose_landmarks:\n",
        "            mp_drawing.draw_landmarks(\n",
        "                annotated_image,\n",
        "                pose_results.pose_landmarks,\n",
        "                mp_pose.POSE_CONNECTIONS\n",
        "            )\n",
        "        if hand_results.multi_hand_landmarks:\n",
        "            for hand_landmarks in hand_results.multi_hand_landmarks:\n",
        "                mp_drawing.draw_landmarks(\n",
        "                    annotated_image,\n",
        "                    hand_landmarks,\n",
        "                    mp_hands.HAND_CONNECTIONS\n",
        "                )\n",
        "\n",
        "        # Save the annotated image to the output directory\n",
        "        output_path = os.path.join(output_directory, file_name)\n",
        "        cv2.imwrite(output_path, annotated_image)\n",
        "        print(f\"Saved: {output_path}\")"
      ]
    },
    {
      "cell_type": "code",
      "execution_count": 7,
      "metadata": {
        "id": "eCNAzg45Qfxn"
      },
      "outputs": [],
      "source": [
        "class ShootingFormDataset(Dataset):\n",
        "    def __init__(self, data_dir, transform=None):\n",
        "        self.data_dir = data_dir\n",
        "        self.transform = transform\n",
        "        self.images = []\n",
        "        self.labels = []\n",
        "\n",
        "        # Iterate over \"No Error Detected\" and \"Error Detected\" folders\n",
        "        for label, folder in enumerate([\"No Error Detected\", \"Error Detected\"]):\n",
        "            folder_path = os.path.join(data_dir, folder)\n",
        "            for file in os.listdir(folder_path):\n",
        "                if file.endswith(('.jpg', '.png')):\n",
        "                    self.images.append(os.path.join(folder_path, file))\n",
        "                    self.labels.append(label)\n",
        "\n",
        "    def __len__(self):\n",
        "        return len(self.images)\n",
        "\n",
        "    def __getitem__(self, idx):\n",
        "        image_path = self.images[idx]\n",
        "        label = self.labels[idx]\n",
        "        image = cv2.imread(image_path)\n",
        "        image = cv2.cvtColor(image, cv2.COLOR_BGR2RGB)\n",
        "\n",
        "        if self.transform:\n",
        "            image = self.transform(image)\n",
        "\n",
        "        return image, label"
      ]
    },
    {
      "cell_type": "code",
      "execution_count": 8,
      "metadata": {
        "id": "H7T-x7zxQgwJ"
      },
      "outputs": [],
      "source": [
        "class AdvancedShootingFormClassifier(nn.Module):\n",
        "    def __init__(self):\n",
        "        super(AdvancedShootingFormClassifier, self).__init__()\n",
        "        self.conv1 = nn.Conv2d(3, 32, kernel_size=3, stride=1, padding=1)\n",
        "        self.conv2 = nn.Conv2d(32, 64, kernel_size=3, stride=1, padding=1)\n",
        "        self.conv3 = nn.Conv2d(64, 128, kernel_size=3, stride=1, padding=1)\n",
        "        self.pool = nn.AdaptiveAvgPool2d((8, 8))\n",
        "        self.fc1 = nn.Linear(128 * 8 * 8, 256)\n",
        "        self.fc2 = nn.Linear(256, 1)\n",
        "        self.relu = nn.ReLU()\n",
        "        self.sigmoid = nn.Sigmoid()\n",
        "\n",
        "    def forward(self, x):\n",
        "        x = self.relu(self.conv1(x))\n",
        "        x = self.relu(self.conv2(x))\n",
        "        x = self.relu(self.conv3(x))\n",
        "        x = self.pool(x)\n",
        "        x = x.view(x.size(0), -1)\n",
        "        x = self.relu(self.fc1(x))\n",
        "        x = self.sigmoid(self.fc2(x))\n",
        "        return x"
      ]
    },
    {
      "cell_type": "code",
      "execution_count": 10,
      "metadata": {
        "id": "jcXkly7PUBTF"
      },
      "outputs": [],
      "source": [
        "# Paths\n",
        "data_dir = \"/content/gdrive/MyDrive/E-RAU(DB)/MA680/data/Shooting/Extra Data/op_Processed_Frames\"\n",
        "model_save_path = \"/content/gdrive/MyDrive/E-RAU(DB)/MA680/models/shooting_form_classifier_SFC.pth\"\n",
        "\n",
        "# Transforms\n",
        "transform = transforms.Compose([\n",
        "    transforms.ToPILImage(),\n",
        "    transforms.Resize((224, 224)),\n",
        "    transforms.ToTensor(),\n",
        "    transforms.Normalize(mean=[0.5, 0.5, 0.5], std=[0.5, 0.5, 0.5])\n",
        "])\n",
        "\n",
        "# Dataset and DataLoader\n",
        "dataset = ShootingFormDataset(data_dir, transform=transform)\n",
        "dataloader = DataLoader(dataset, batch_size=32, shuffle=True)\n",
        "\n",
        "# Device setup\n",
        "device = torch.device('cuda' if torch.cuda.is_available() else 'cpu')\n",
        "model = AdvancedShootingFormClassifier().to(device)\n",
        "criterion = nn.BCELoss()\n",
        "optimizer = optim.Adam(model.parameters(), lr=0.001)"
      ]
    },
    {
      "cell_type": "markdown",
      "metadata": {
        "id": "_piVQM6_rfdD"
      },
      "source": [
        "##Model Training"
      ]
    },
    {
      "cell_type": "code",
      "execution_count": 11,
      "metadata": {
        "colab": {
          "base_uri": "https://localhost:8080/"
        },
        "id": "42H9U92YrRXQ",
        "outputId": "4e7d341c-4796-41e0-e7e2-2c6b8bf334a7"
      },
      "outputs": [
        {
          "output_type": "stream",
          "name": "stdout",
          "text": [
            "Epoch 1/2, Loss: 0.3376, Accuracy: 85.71%\n",
            "Epoch 2/2, Loss: 0.0800, Accuracy: 96.43%\n",
            "Model saved to /content/gdrive/MyDrive/E-RAU(DB)/MA680/models/shooting_form_classifier_SFC.pth\n"
          ]
        }
      ],
      "source": [
        "# Training Loop\n",
        "epochs = 2\n",
        "for epoch in range(epochs):\n",
        "    model.train()\n",
        "    running_loss = 0.0\n",
        "    correct_predictions = 0\n",
        "    total_predictions = 0\n",
        "\n",
        "    for images, labels in dataloader:\n",
        "        images, labels = images.to(device), labels.to(device).float().unsqueeze(1)\n",
        "\n",
        "        # Forward pass\n",
        "        outputs = model(images)\n",
        "        loss = criterion(outputs, labels)\n",
        "\n",
        "        # Backward pass and optimization\n",
        "        optimizer.zero_grad()\n",
        "        loss.backward()\n",
        "        optimizer.step()\n",
        "\n",
        "        # Update metrics\n",
        "        running_loss += loss.item()\n",
        "        predictions = (outputs > 0.5).float()\n",
        "        correct_predictions += (predictions == labels).sum().item()\n",
        "        total_predictions += labels.size(0)\n",
        "\n",
        "    # Calculate epoch metrics\n",
        "    epoch_loss = running_loss / len(dataloader)\n",
        "    epoch_accuracy = (correct_predictions / total_predictions) * 100\n",
        "    print(f\"Epoch {epoch + 1}/{epochs}, Loss: {epoch_loss:.4f}, Accuracy: {epoch_accuracy:.2f}%\")\n",
        "\n",
        "# Save the model\n",
        "os.makedirs(os.path.dirname(model_save_path), exist_ok=True)\n",
        "torch.save(model.state_dict(), model_save_path)\n",
        "print(f\"Model saved to {model_save_path}\")"
      ]
    },
    {
      "cell_type": "markdown",
      "metadata": {
        "id": "h4HR-X8lrk6P"
      },
      "source": [
        "##Model Applicaiton"
      ]
    },
    {
      "cell_type": "code",
      "execution_count": 16,
      "metadata": {
        "colab": {
          "base_uri": "https://localhost:8080/"
        },
        "id": "1hOjl1EmrTqe",
        "outputId": "54922a66-f726-4f50-d515-aa636dd5ad7a"
      },
      "outputs": [
        {
          "output_type": "stream",
          "name": "stdout",
          "text": [
            "Processed and saved: /content/gdrive/MyDrive/E-RAU(DB)/MA680/data/Shooting/Extra Data/Novice/Processed_Frames/Te11_2_frame4.jpg\n",
            "Processed and saved: /content/gdrive/MyDrive/E-RAU(DB)/MA680/data/Shooting/Extra Data/Novice/Processed_Frames/Te11_2_frame8.jpg\n",
            "Processed and saved: /content/gdrive/MyDrive/E-RAU(DB)/MA680/data/Shooting/Extra Data/Novice/Processed_Frames/Te11_2_frame5.jpg\n",
            "Processed and saved: /content/gdrive/MyDrive/E-RAU(DB)/MA680/data/Shooting/Extra Data/Novice/Processed_Frames/Te11_2_frame10.jpg\n",
            "Processed and saved: /content/gdrive/MyDrive/E-RAU(DB)/MA680/data/Shooting/Extra Data/Novice/Processed_Frames/Te11_2_frame6.jpg\n",
            "Processed and saved: /content/gdrive/MyDrive/E-RAU(DB)/MA680/data/Shooting/Extra Data/Novice/Processed_Frames/Te11_1_frame2.jpg\n",
            "Processed and saved: /content/gdrive/MyDrive/E-RAU(DB)/MA680/data/Shooting/Extra Data/Novice/Processed_Frames/Te10_2_frame10.jpg\n",
            "Processed and saved: /content/gdrive/MyDrive/E-RAU(DB)/MA680/data/Shooting/Extra Data/Novice/Processed_Frames/Te10_1_frame10.jpg\n",
            "Processed and saved: /content/gdrive/MyDrive/E-RAU(DB)/MA680/data/Shooting/Extra Data/Novice/Processed_Frames/Te10_2_frame4.jpg\n",
            "Processed and saved: /content/gdrive/MyDrive/E-RAU(DB)/MA680/data/Shooting/Extra Data/Novice/Processed_Frames/Te11_1_frame8.jpg\n",
            "Processed and saved: /content/gdrive/MyDrive/E-RAU(DB)/MA680/data/Shooting/Extra Data/Novice/Processed_Frames/Te10_2_frame2.jpg\n",
            "Processed and saved: /content/gdrive/MyDrive/E-RAU(DB)/MA680/data/Shooting/Extra Data/Novice/Processed_Frames/Te10_2_frame9.jpg\n",
            "Processed and saved: /content/gdrive/MyDrive/E-RAU(DB)/MA680/data/Shooting/Extra Data/Novice/Processed_Frames/Te10_2_frame6.jpg\n",
            "Processed and saved: /content/gdrive/MyDrive/E-RAU(DB)/MA680/data/Shooting/Extra Data/Novice/Processed_Frames/Te11_1_frame10.jpg\n",
            "Processed and saved: /content/gdrive/MyDrive/E-RAU(DB)/MA680/data/Shooting/Extra Data/Novice/Processed_Frames/Te11_2_frame7.jpg\n",
            "Processed and saved: /content/gdrive/MyDrive/E-RAU(DB)/MA680/data/Shooting/Extra Data/Novice/Processed_Frames/Te11_1_frame5.jpg\n",
            "Processed and saved: /content/gdrive/MyDrive/E-RAU(DB)/MA680/data/Shooting/Extra Data/Novice/Processed_Frames/Te11_1_frame4.jpg\n",
            "Processed and saved: /content/gdrive/MyDrive/E-RAU(DB)/MA680/data/Shooting/Extra Data/Novice/Processed_Frames/Te11_2_frame1.jpg\n",
            "Processed and saved: /content/gdrive/MyDrive/E-RAU(DB)/MA680/data/Shooting/Extra Data/Novice/Processed_Frames/Te11_2_frame3.jpg\n",
            "Processed and saved: /content/gdrive/MyDrive/E-RAU(DB)/MA680/data/Shooting/Extra Data/Novice/Processed_Frames/Te10_2_frame5.jpg\n",
            "Processed and saved: /content/gdrive/MyDrive/E-RAU(DB)/MA680/data/Shooting/Extra Data/Novice/Processed_Frames/Te10_2_frame3.jpg\n",
            "Processed and saved: /content/gdrive/MyDrive/E-RAU(DB)/MA680/data/Shooting/Extra Data/Novice/Processed_Frames/Te10_2_frame7.jpg\n",
            "Processed and saved: /content/gdrive/MyDrive/E-RAU(DB)/MA680/data/Shooting/Extra Data/Novice/Processed_Frames/Te10_2_frame8.jpg\n",
            "Processed and saved: /content/gdrive/MyDrive/E-RAU(DB)/MA680/data/Shooting/Extra Data/Novice/Processed_Frames/Te11_1_frame3.jpg\n",
            "Processed and saved: /content/gdrive/MyDrive/E-RAU(DB)/MA680/data/Shooting/Extra Data/Novice/Processed_Frames/Te11_2_frame9.jpg\n",
            "Processed and saved: /content/gdrive/MyDrive/E-RAU(DB)/MA680/data/Shooting/Extra Data/Novice/Processed_Frames/Te9_1_frame2.jpg\n",
            "Processed and saved: /content/gdrive/MyDrive/E-RAU(DB)/MA680/data/Shooting/Extra Data/Novice/Processed_Frames/Te9_2_frame9.jpg\n",
            "Processed and saved: /content/gdrive/MyDrive/E-RAU(DB)/MA680/data/Shooting/Extra Data/Novice/Processed_Frames/Te11_1_frame7.jpg\n",
            "Processed and saved: /content/gdrive/MyDrive/E-RAU(DB)/MA680/data/Shooting/Extra Data/Novice/Processed_Frames/Te10_1_frame4.jpg\n",
            "Processed and saved: /content/gdrive/MyDrive/E-RAU(DB)/MA680/data/Shooting/Extra Data/Novice/Processed_Frames/Te10_1_frame3.jpg\n",
            "Processed and saved: /content/gdrive/MyDrive/E-RAU(DB)/MA680/data/Shooting/Extra Data/Novice/Processed_Frames/Te10_2_frame1.jpg\n",
            "Processed and saved: /content/gdrive/MyDrive/E-RAU(DB)/MA680/data/Shooting/Extra Data/Novice/Processed_Frames/Te10_1_frame6.jpg\n",
            "Processed and saved: /content/gdrive/MyDrive/E-RAU(DB)/MA680/data/Shooting/Extra Data/Novice/Processed_Frames/Te9_1_frame6.jpg\n",
            "Processed and saved: /content/gdrive/MyDrive/E-RAU(DB)/MA680/data/Shooting/Extra Data/Novice/Processed_Frames/Te10_1_frame8.jpg\n",
            "Processed and saved: /content/gdrive/MyDrive/E-RAU(DB)/MA680/data/Shooting/Extra Data/Novice/Processed_Frames/Te9_2_frame8.jpg\n",
            "Processed and saved: /content/gdrive/MyDrive/E-RAU(DB)/MA680/data/Shooting/Extra Data/Novice/Processed_Frames/Te9_2_frame10.jpg\n",
            "Processed and saved: /content/gdrive/MyDrive/E-RAU(DB)/MA680/data/Shooting/Extra Data/Novice/Processed_Frames/Te11_1_frame6.jpg\n",
            "Processed and saved: /content/gdrive/MyDrive/E-RAU(DB)/MA680/data/Shooting/Extra Data/Novice/Processed_Frames/Te9_2_frame7.jpg\n",
            "Processed and saved: /content/gdrive/MyDrive/E-RAU(DB)/MA680/data/Shooting/Extra Data/Novice/Processed_Frames/Te10_1_frame1.jpg\n",
            "Processed and saved: /content/gdrive/MyDrive/E-RAU(DB)/MA680/data/Shooting/Extra Data/Novice/Processed_Frames/Te9_1_frame3.jpg\n",
            "Processed and saved: /content/gdrive/MyDrive/E-RAU(DB)/MA680/data/Shooting/Extra Data/Novice/Processed_Frames/Te11_1_frame9.jpg\n",
            "Processed and saved: /content/gdrive/MyDrive/E-RAU(DB)/MA680/data/Shooting/Extra Data/Novice/Processed_Frames/Te9_2_frame6.jpg\n",
            "Processed and saved: /content/gdrive/MyDrive/E-RAU(DB)/MA680/data/Shooting/Extra Data/Novice/Processed_Frames/Te9_2_frame1.jpg\n",
            "Processed and saved: /content/gdrive/MyDrive/E-RAU(DB)/MA680/data/Shooting/Extra Data/Novice/Processed_Frames/Te9_2_frame2.jpg\n",
            "Processed and saved: /content/gdrive/MyDrive/E-RAU(DB)/MA680/data/Shooting/Extra Data/Novice/Processed_Frames/Te9_2_frame5.jpg\n",
            "Processed and saved: /content/gdrive/MyDrive/E-RAU(DB)/MA680/data/Shooting/Extra Data/Novice/Processed_Frames/Te11_2_frame2.jpg\n",
            "Processed and saved: /content/gdrive/MyDrive/E-RAU(DB)/MA680/data/Shooting/Extra Data/Novice/Processed_Frames/Te9_1_frame1.jpg\n",
            "Processed and saved: /content/gdrive/MyDrive/E-RAU(DB)/MA680/data/Shooting/Extra Data/Novice/Processed_Frames/Te10_1_frame7.jpg\n",
            "Processed and saved: /content/gdrive/MyDrive/E-RAU(DB)/MA680/data/Shooting/Extra Data/Novice/Processed_Frames/Te11_1_frame1.jpg\n",
            "Processed and saved: /content/gdrive/MyDrive/E-RAU(DB)/MA680/data/Shooting/Extra Data/Novice/Processed_Frames/Te9_1_frame10.jpg\n",
            "Processed and saved: /content/gdrive/MyDrive/E-RAU(DB)/MA680/data/Shooting/Extra Data/Novice/Processed_Frames/Te9_1_frame9.jpg\n",
            "Processed and saved: /content/gdrive/MyDrive/E-RAU(DB)/MA680/data/Shooting/Extra Data/Novice/Processed_Frames/Te9_1_frame4.jpg\n",
            "Processed and saved: /content/gdrive/MyDrive/E-RAU(DB)/MA680/data/Shooting/Extra Data/Novice/Processed_Frames/Te8_2_frame4.jpg\n",
            "Processed and saved: /content/gdrive/MyDrive/E-RAU(DB)/MA680/data/Shooting/Extra Data/Novice/Processed_Frames/Te8_1_frame4.jpg\n",
            "Processed and saved: /content/gdrive/MyDrive/E-RAU(DB)/MA680/data/Shooting/Extra Data/Novice/Processed_Frames/Te8_1_frame6.jpg\n",
            "Processed and saved: /content/gdrive/MyDrive/E-RAU(DB)/MA680/data/Shooting/Extra Data/Novice/Processed_Frames/Te8_2_frame6.jpg\n",
            "Processed and saved: /content/gdrive/MyDrive/E-RAU(DB)/MA680/data/Shooting/Extra Data/Novice/Processed_Frames/Te7_2_frame6.jpg\n",
            "Processed and saved: /content/gdrive/MyDrive/E-RAU(DB)/MA680/data/Shooting/Extra Data/Novice/Processed_Frames/Te9_2_frame3.jpg\n",
            "Processed and saved: /content/gdrive/MyDrive/E-RAU(DB)/MA680/data/Shooting/Extra Data/Novice/Processed_Frames/Te8_2_frame8.jpg\n",
            "Processed and saved: /content/gdrive/MyDrive/E-RAU(DB)/MA680/data/Shooting/Extra Data/Novice/Processed_Frames/Te9_2_frame4.jpg\n",
            "Processed and saved: /content/gdrive/MyDrive/E-RAU(DB)/MA680/data/Shooting/Extra Data/Novice/Processed_Frames/Te9_1_frame7.jpg\n",
            "Processed and saved: /content/gdrive/MyDrive/E-RAU(DB)/MA680/data/Shooting/Extra Data/Novice/Processed_Frames/Te8_2_frame5.jpg\n",
            "Processed and saved: /content/gdrive/MyDrive/E-RAU(DB)/MA680/data/Shooting/Extra Data/Novice/Processed_Frames/Te8_2_frame2.jpg\n",
            "Processed and saved: /content/gdrive/MyDrive/E-RAU(DB)/MA680/data/Shooting/Extra Data/Novice/Processed_Frames/Te9_1_frame8.jpg\n",
            "Processed and saved: /content/gdrive/MyDrive/E-RAU(DB)/MA680/data/Shooting/Extra Data/Novice/Processed_Frames/Te7_2_frame9.jpg\n",
            "Processed and saved: /content/gdrive/MyDrive/E-RAU(DB)/MA680/data/Shooting/Extra Data/Novice/Processed_Frames/Te8_1_frame5.jpg\n",
            "Processed and saved: /content/gdrive/MyDrive/E-RAU(DB)/MA680/data/Shooting/Extra Data/Novice/Processed_Frames/Te8_1_frame8.jpg\n",
            "Processed and saved: /content/gdrive/MyDrive/E-RAU(DB)/MA680/data/Shooting/Extra Data/Novice/Processed_Frames/Te10_1_frame5.jpg\n",
            "Processed and saved: /content/gdrive/MyDrive/E-RAU(DB)/MA680/data/Shooting/Extra Data/Novice/Processed_Frames/Te9_1_frame5.jpg\n",
            "Processed and saved: /content/gdrive/MyDrive/E-RAU(DB)/MA680/data/Shooting/Extra Data/Novice/Processed_Frames/Te8_2_frame1.jpg\n",
            "Processed and saved: /content/gdrive/MyDrive/E-RAU(DB)/MA680/data/Shooting/Extra Data/Novice/Processed_Frames/Te8_2_frame10.jpg\n",
            "Processed and saved: /content/gdrive/MyDrive/E-RAU(DB)/MA680/data/Shooting/Extra Data/Novice/Processed_Frames/Te7_2_frame4.jpg\n",
            "Processed and saved: /content/gdrive/MyDrive/E-RAU(DB)/MA680/data/Shooting/Extra Data/Novice/Processed_Frames/Te8_2_frame3.jpg\n",
            "Processed and saved: /content/gdrive/MyDrive/E-RAU(DB)/MA680/data/Shooting/Extra Data/Novice/Processed_Frames/Te7_2_frame8.jpg\n",
            "Processed and saved: /content/gdrive/MyDrive/E-RAU(DB)/MA680/data/Shooting/Extra Data/Novice/Processed_Frames/Te7_1_frame6.jpg\n",
            "Processed and saved: /content/gdrive/MyDrive/E-RAU(DB)/MA680/data/Shooting/Extra Data/Novice/Processed_Frames/Te7_1_frame5.jpg\n",
            "Processed and saved: /content/gdrive/MyDrive/E-RAU(DB)/MA680/data/Shooting/Extra Data/Novice/Processed_Frames/Te7_1_frame7.jpg\n",
            "Processed and saved: /content/gdrive/MyDrive/E-RAU(DB)/MA680/data/Shooting/Extra Data/Novice/Processed_Frames/Te8_1_frame7.jpg\n",
            "Processed and saved: /content/gdrive/MyDrive/E-RAU(DB)/MA680/data/Shooting/Extra Data/Novice/Processed_Frames/Te10_1_frame2.jpg\n",
            "Processed and saved: /content/gdrive/MyDrive/E-RAU(DB)/MA680/data/Shooting/Extra Data/Novice/Processed_Frames/Te7_2_frame2.jpg\n",
            "Processed and saved: /content/gdrive/MyDrive/E-RAU(DB)/MA680/data/Shooting/Extra Data/Novice/Processed_Frames/Te7_2_frame5.jpg\n",
            "Processed and saved: /content/gdrive/MyDrive/E-RAU(DB)/MA680/data/Shooting/Extra Data/Novice/Processed_Frames/Te8_1_frame3.jpg\n",
            "Processed and saved: /content/gdrive/MyDrive/E-RAU(DB)/MA680/data/Shooting/Extra Data/Novice/Processed_Frames/Te7_2_frame1.jpg\n",
            "Processed and saved: /content/gdrive/MyDrive/E-RAU(DB)/MA680/data/Shooting/Extra Data/Novice/Processed_Frames/Te8_1_frame10.jpg\n",
            "Processed and saved: /content/gdrive/MyDrive/E-RAU(DB)/MA680/data/Shooting/Extra Data/Novice/Processed_Frames/Te10_1_frame9.jpg\n",
            "Processed and saved: /content/gdrive/MyDrive/E-RAU(DB)/MA680/data/Shooting/Extra Data/Novice/Processed_Frames/Te7_2_frame10.jpg\n"
          ]
        }
      ],
      "source": [
        "# Load the trained model\n",
        "model_path = \"/content/gdrive/MyDrive/E-RAU(DB)/MA680/models/shooting_form_classifier_SFC.pth\"\n",
        "model = AdvancedShootingFormClassifier()\n",
        "model.load_state_dict(torch.load(model_path, map_location=torch.device('cpu')))\n",
        "model.eval()\n",
        "\n",
        "frames_dir = \"/content/gdrive/MyDrive/E-RAU(DB)/MA680/data/Shooting/Extra Data/Novice/Extracted_Frames\"\n",
        "output_dir = \"/content/gdrive/MyDrive/E-RAU(DB)/MA680/data/Shooting/Extra Data/Novice/Processed_Frames\"\n",
        "os.makedirs(output_dir, exist_ok=True)\n",
        "\n",
        "# Process each frame\n",
        "for file_name in os.listdir(frames_dir):\n",
        "    file_path = os.path.join(frames_dir, file_name)\n",
        "    if not file_name.lower().endswith(('.png', '.jpg', '.jpeg')):\n",
        "        continue  # Skip non-image files\n",
        "\n",
        "    # Read and process the image\n",
        "    image = cv2.imread(file_path)\n",
        "    image_rgb = cv2.cvtColor(image, cv2.COLOR_BGR2RGB)\n",
        "\n",
        "    # Detect pose\n",
        "    pose_results = pose.process(image_rgb)\n",
        "    annotated_image = image.copy()\n",
        "\n",
        "    if pose_results.pose_landmarks:\n",
        "        # Draw the skeleton on the image\n",
        "        mp_drawing.draw_landmarks(\n",
        "            annotated_image,\n",
        "            pose_results.pose_landmarks,\n",
        "            mp_pose.POSE_CONNECTIONS\n",
        "        )\n",
        "\n",
        "        # Convert skeleton data to input for the model\n",
        "        landmarks = pose_results.pose_landmarks.landmark\n",
        "        keypoints = torch.tensor([[lm.x, lm.y, lm.z, lm.visibility] for lm in landmarks])\n",
        "\n",
        "        # Ensure the keypoints are reshaped into a 2D tensor: [1, 1, 33, 4]\n",
        "        keypoints = keypoints.view(1, 1, 33, 4)\n",
        "\n",
        "        # Expand to 3 channels if the model requires it\n",
        "        keypoints = keypoints.repeat(1, 3, 1, 1)  # Convert to [batch_size, 3, 33, 4]\n",
        "\n",
        "        # Prediction\n",
        "        prediction = model(keypoints)\n",
        "        label = \"No Error Detected\" if prediction.item() > 0.5 else \"Error Detected\"\n",
        "    else:\n",
        "        label = \"Error Detected (No Pose Detected)\"\n",
        "\n",
        "    # Add label to the annotated image\n",
        "    font = cv2.FONT_HERSHEY_SIMPLEX\n",
        "    cv2.putText(annotated_image, label, (10, 30), font, 1, (0, 255, 0) if \"No Error\" in label else (0, 0, 255), 2)\n",
        "\n",
        "    # Save the annotated image\n",
        "    output_path = os.path.join(output_dir, file_name)\n",
        "    cv2.imwrite(output_path, annotated_image)\n",
        "    print(f\"Processed and saved: {output_path}\")"
      ]
    },
    {
      "cell_type": "code",
      "execution_count": 13,
      "metadata": {
        "id": "ORhX7e0wahhi"
      },
      "outputs": [],
      "source": []
    }
  ],
  "metadata": {
    "colab": {
      "provenance": []
    },
    "kernelspec": {
      "display_name": "Python 3",
      "name": "python3"
    },
    "language_info": {
      "name": "python"
    }
  },
  "nbformat": 4,
  "nbformat_minor": 0
}